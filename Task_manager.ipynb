{
 "cells": [
  {
   "cell_type": "code",
   "execution_count": 6,
   "id": "41100818-3d12-44c9-bcb2-6e24a165752f",
   "metadata": {},
   "outputs": [
    {
     "name": "stdout",
     "output_type": "stream",
     "text": [
      "Task Manager Menu:\n",
      "1. Add Task\n",
      "2. View All Tasks\n",
      "3. Mark Task as Completed\n",
      "4. Remove Task\n",
      "5. View Tasks by Status\n",
      "6. Exit\n"
     ]
    },
    {
     "name": "stdin",
     "output_type": "stream",
     "text": [
      "Enter your choice:  1\n",
      "Enter the task name:  loops\n",
      "Enter the due date (YYYY-MM-DD):  2024-09-28\n"
     ]
    },
    {
     "name": "stdout",
     "output_type": "stream",
     "text": [
      "Task 'loops' added successfully!\n",
      "\n",
      "Task Manager Menu:\n",
      "1. Add Task\n",
      "2. View All Tasks\n",
      "3. Mark Task as Completed\n",
      "4. Remove Task\n",
      "5. View Tasks by Status\n",
      "6. Exit\n"
     ]
    },
    {
     "name": "stdin",
     "output_type": "stream",
     "text": [
      "Enter your choice:  1\n",
      "Enter the task name:  strings\n",
      "Enter the due date (YYYY-MM-DD):  2024-10-02\n"
     ]
    },
    {
     "name": "stdout",
     "output_type": "stream",
     "text": [
      "Task 'strings' added successfully!\n",
      "\n",
      "Task Manager Menu:\n",
      "1. Add Task\n",
      "2. View All Tasks\n",
      "3. Mark Task as Completed\n",
      "4. Remove Task\n",
      "5. View Tasks by Status\n",
      "6. Exit\n"
     ]
    },
    {
     "name": "stdin",
     "output_type": "stream",
     "text": [
      "Enter your choice:  1\n",
      "Enter the task name:  pandas\n",
      "Enter the due date (YYYY-MM-DD):  2024-10-10\n"
     ]
    },
    {
     "name": "stdout",
     "output_type": "stream",
     "text": [
      "Task 'pandas' added successfully!\n",
      "\n",
      "Task Manager Menu:\n",
      "1. Add Task\n",
      "2. View All Tasks\n",
      "3. Mark Task as Completed\n",
      "4. Remove Task\n",
      "5. View Tasks by Status\n",
      "6. Exit\n"
     ]
    },
    {
     "name": "stdin",
     "output_type": "stream",
     "text": [
      "Enter your choice:  2\n"
     ]
    },
    {
     "name": "stdout",
     "output_type": "stream",
     "text": [
      "1. loops (Due: 2024-09-28) - Status: Incomplete\n",
      "\n",
      "2. strings (Due: 2024-10-02) - Status: Incomplete\n",
      "\n",
      "3. pandas (Due: 2024-10-10) - Status: Incomplete\n",
      "\n",
      "Task Manager Menu:\n",
      "1. Add Task\n",
      "2. View All Tasks\n",
      "3. Mark Task as Completed\n",
      "4. Remove Task\n",
      "5. View Tasks by Status\n",
      "6. Exit\n"
     ]
    },
    {
     "name": "stdin",
     "output_type": "stream",
     "text": [
      "Enter your choice:  3\n"
     ]
    },
    {
     "name": "stdout",
     "output_type": "stream",
     "text": [
      "1. loops (Due: 2024-09-28) - Status: Incomplete\n",
      "\n",
      "2. strings (Due: 2024-10-02) - Status: Incomplete\n",
      "\n",
      "3. pandas (Due: 2024-10-10) - Status: Incomplete\n",
      "\n"
     ]
    },
    {
     "name": "stdin",
     "output_type": "stream",
     "text": [
      "Enter the task number to mark as completed:  1\n"
     ]
    },
    {
     "name": "stdout",
     "output_type": "stream",
     "text": [
      "Task 'loops' marked as completed.\n",
      "\n",
      "Task Manager Menu:\n",
      "1. Add Task\n",
      "2. View All Tasks\n",
      "3. Mark Task as Completed\n",
      "4. Remove Task\n",
      "5. View Tasks by Status\n",
      "6. Exit\n"
     ]
    },
    {
     "name": "stdin",
     "output_type": "stream",
     "text": [
      "Enter your choice:  4\n"
     ]
    },
    {
     "name": "stdout",
     "output_type": "stream",
     "text": [
      "1. loops (Due: 2024-09-28) - Status: Completed\n",
      "\n",
      "2. strings (Due: 2024-10-02) - Status: Incomplete\n",
      "\n",
      "3. pandas (Due: 2024-10-10) - Status: Incomplete\n",
      "\n"
     ]
    },
    {
     "name": "stdin",
     "output_type": "stream",
     "text": [
      "Enter the task number to remove:  3\n"
     ]
    },
    {
     "name": "stdout",
     "output_type": "stream",
     "text": [
      "Task 'pandas' removed successfully!\n",
      "\n",
      "Task Manager Menu:\n",
      "1. Add Task\n",
      "2. View All Tasks\n",
      "3. Mark Task as Completed\n",
      "4. Remove Task\n",
      "5. View Tasks by Status\n",
      "6. Exit\n"
     ]
    },
    {
     "name": "stdin",
     "output_type": "stream",
     "text": [
      "Enter your choice:  5\n"
     ]
    },
    {
     "name": "stdout",
     "output_type": "stream",
     "text": [
      "\n",
      "Tasks by Status:\n",
      "\n",
      "Completed tasks:\n",
      "  - loops (Due: 2024-09-28)\n",
      "\n",
      "Incomplete tasks:\n",
      "  - strings (Due: 2024-10-02)\n",
      "\n",
      "Task Manager Menu:\n",
      "1. Add Task\n",
      "2. View All Tasks\n",
      "3. Mark Task as Completed\n",
      "4. Remove Task\n",
      "5. View Tasks by Status\n",
      "6. Exit\n"
     ]
    },
    {
     "name": "stdin",
     "output_type": "stream",
     "text": [
      "Enter your choice:  6\n"
     ]
    },
    {
     "name": "stdout",
     "output_type": "stream",
     "text": [
      "Exiting Task Manager. Goodbye!\n"
     ]
    }
   ],
   "source": [
    "def task_manager():\n",
    "    tasks = []  # List to store tasks as tuples (task_name, due_date, status)\n",
    "\n",
    "    def add_task():\n",
    "        task_name = input(\"Enter the task name: \")\n",
    "        due_date = input(\"Enter the due date (YYYY-MM-DD): \")\n",
    "        tasks.append((task_name, due_date, \"Incomplete\"))  # Adding a new task as incomplete\n",
    "        print(f\"Task '{task_name}' added successfully!\\n\")\n",
    "\n",
    "    def view_tasks():\n",
    "       \n",
    "            for index, task in enumerate(tasks):\n",
    "                task_name, due_date, status = task\n",
    "                print(f\"{index + 1}. {task_name} (Due: {due_date}) - Status: {status}\")\n",
    "                print()\n",
    "\n",
    "    def mark_task_completed():\n",
    "        view_tasks()  # Display current tasks\n",
    "        if tasks:\n",
    "            task_number = int(input(\"Enter the task number to mark as completed: \"))\n",
    "            if 1 <= task_number <= len(tasks):\n",
    "                task_name, due_date, _ = tasks[task_number - 1]\n",
    "                tasks[task_number - 1] = (task_name, due_date, \"Completed\")  # Update status to completed\n",
    "                print(f\"Task '{task_name}' marked as completed.\\n\")\n",
    "            else:\n",
    "                print(\"Invalid task number!\\n\")\n",
    "\n",
    "    def remove_task():\n",
    "        view_tasks()  # Display current tasks\n",
    "        if tasks:\n",
    "            task_number = int(input(\"Enter the task number to remove: \"))\n",
    "            if 1 <= task_number <= len(tasks):\n",
    "                task_name, _, _ = tasks.pop(task_number - 1)  # Remove task from the list\n",
    "                print(f\"Task '{task_name}' removed successfully!\\n\")\n",
    "            else:\n",
    "                print(\"Invalid task number!\\n\")\n",
    "\n",
    "    def view_tasks_by_status():\n",
    "        status_dict = {\"Completed\": [], \"Incomplete\": []}\n",
    "        for task_name, due_date, status in tasks:\n",
    "            status_dict[status].append((task_name, due_date))\n",
    "\n",
    "        print(\"\\nTasks by Status:\")\n",
    "        for status, task_list in status_dict.items():\n",
    "            print(f\"\\n{status} tasks:\")\n",
    "            if task_list:\n",
    "                for task_name, due_date in task_list:\n",
    "                    print(f\"  - {task_name} (Due: {due_date})\")\n",
    "            else:\n",
    "                print(\"  No tasks.\")\n",
    "        print()\n",
    "\n",
    "    while True:\n",
    "        print(\"Task Manager Menu:\")\n",
    "        print(\"1. Add Task\")\n",
    "        print(\"2. View All Tasks\")\n",
    "        print(\"3. Mark Task as Completed\")\n",
    "        print(\"4. Remove Task\")\n",
    "        print(\"5. View Tasks by Status\")\n",
    "        print(\"6. Exit\")\n",
    "        option = input(\"Enter your choice: \")\n",
    "\n",
    "        if option == \"1\":\n",
    "            add_task()\n",
    "        elif option == \"2\":\n",
    "            view_tasks()\n",
    "        elif option == \"3\":\n",
    "            mark_task_completed()\n",
    "        elif option == \"4\":\n",
    "            remove_task()\n",
    "        elif option == \"5\":\n",
    "            view_tasks_by_status()\n",
    "        elif option == \"6\":\n",
    "            print(\"Exiting Task Manager. Goodbye!\")\n",
    "            break\n",
    "        else:\n",
    "            print(\"Invalid option! Please try again.\\n\")\n",
    "\n",
    "\n",
    "# Call the task manager function to start the program\n",
    "task_manager()\n"
   ]
  },
  {
   "cell_type": "code",
   "execution_count": null,
   "id": "148a7041-8a69-4d8b-bff5-66d4828bd257",
   "metadata": {},
   "outputs": [],
   "source": []
  }
 ],
 "metadata": {
  "kernelspec": {
   "display_name": "Python 3 (ipykernel)",
   "language": "python",
   "name": "python3"
  },
  "language_info": {
   "codemirror_mode": {
    "name": "ipython",
    "version": 3
   },
   "file_extension": ".py",
   "mimetype": "text/x-python",
   "name": "python",
   "nbconvert_exporter": "python",
   "pygments_lexer": "ipython3",
   "version": "3.12.4"
  }
 },
 "nbformat": 4,
 "nbformat_minor": 5
}
